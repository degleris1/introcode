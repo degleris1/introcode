{
 "cells": [
  {
   "cell_type": "markdown",
   "metadata": {},
   "source": [
    "# Hello\n",
    "\n",
    "Hi there. This is a **Jupyter notebook**. Notebooks allow you to combine text and code into nice little presentations. This is handy for demos, reports, lessons, or any other time you want to explain (or show off) your code. Jupyter notebooks will be my primary way of sharing coding lessons with you.\n",
    "\n",
    "These lessons will all be in Python. This is for a couple reasons.\n",
    "\n",
    "- Python is readable and user-friendly.\n",
    "- Python has lots of open source support. Most of the tools you need have already been developed in Python.\n",
    "- Python is incredibly easy to set up on your computer.\n",
    "- More and more code is being written in Python.\n",
    "- Most importantly: I'm most comfortable in Python.\n",
    "\n",
    "There are some other reasons to, which hopefully you'll come to appreciate later."
   ]
  },
  {
   "cell_type": "markdown",
   "metadata": {},
   "source": [
    "## Setup\n",
    "\n",
    "You use a Mac, which makes things pretty straightforward. I'll need you to install the latest version of [Python for mac](https://www.python.org/downloads/mac-osx/). It should be on version 3.7.0 (last time I checked). It should be pretty straightforward, but let me know if you have trouble.\n",
    "\n",
    "Your installation should include two things.\n",
    "\n",
    "- Python itself.\n",
    "- IDLE, a program that lets you write and run Python code. IDLE is an **IDE**, which stands for Integrated Development Environment. This loosely corresponds to any piece of software that let's you write code and test it. There are many IDEs available for Python, but we'll use IDLE because it's simple and approachable.\n",
    "\n",
    "**Aside:** You may have asked yourself, what does it mean to install Python, exactly? While Python is a programming language, the computer needs a way to translate that language to machine code (instructions the computer can read). Python *the program* is used to translate Python *the language* to machine code.\n",
    "\n",
    "**Another aside:** You actually had Python installed on your computer previously, but it likely did not come with IDLE (and was most definitely an outdated version)."
   ]
  },
  {
   "cell_type": "markdown",
   "metadata": {},
   "source": [
    "## Python shell\n",
    "\n",
    "Search through your applications for IDLE. When you open it, a little white screen should pop up. You should see the word Python followed by some random mumbo-jumbo, and three arrows like this `>>>`. If you click on the window, your cursor should move right next to the arrows. \n",
    "\n",
    "This window is called the Python **shell**. The shell **interprets** Python code, which means it translates Python code to machine code on the spot. This allows you to quickly test and experiment with code.\n",
    "\n",
    "Try typing the next couple lines into the Python shell."
   ]
  },
  {
   "cell_type": "code",
   "execution_count": 1,
   "metadata": {},
   "outputs": [
    {
     "name": "stdout",
     "output_type": "stream",
     "text": [
      "Hello world\n"
     ]
    }
   ],
   "source": [
    "print('Hello world')"
   ]
  },
  {
   "cell_type": "code",
   "execution_count": 2,
   "metadata": {},
   "outputs": [],
   "source": [
    "foo = 5"
   ]
  },
  {
   "cell_type": "code",
   "execution_count": 3,
   "metadata": {},
   "outputs": [
    {
     "name": "stdout",
     "output_type": "stream",
     "text": [
      "5\n"
     ]
    }
   ],
   "source": [
    "print(foo)"
   ]
  },
  {
   "cell_type": "markdown",
   "metadata": {},
   "source": [
    "-------\n",
    "Easy, right? In some sense, programming really isn't much more than that. \n",
    "\n",
    "While the shell is great for testing bits a pieces of code, we will eventually need to write longer programs that can be saved and reused. In the shell's menu bar, select `File --> New File` to create a new Python file. Write `print('Hello world')` as we did earlier, and save the file (using the menu bar command `File --> Save As`) with the name `hello.py`. Put it in a somewhere you'll remember (and ideally create a folder for all the Python programs you use in these lessons).\n",
    "\n",
    "Now, let's run the program. Using the menu bar again, select `Run --> Run Module` and watch what happens in the shell. Congratulations, you wrote and ran a program!"
   ]
  },
  {
   "cell_type": "markdown",
   "metadata": {},
   "source": [
    "## What is this `print` thing?\n",
    "\n",
    "The `print()` command is a **function**. Functions are short blocks of code that are executed when you type the name function. Don't worry too much about them now, we'll go much deeper into functions later.\n",
    "\n",
    "The function `print()` is one of the [built-in functions](https://docs.python.org/3/library/functions.html) in Python, meaning Python knows exactly what to do whenever you tell it to `print('something')`. \n",
    "\n",
    "Try adding one or two more `print()` statements to your program `hello.py` and rerunning it. You should see multiple lines displayed in the shell output, like this"
   ]
  },
  {
   "cell_type": "code",
   "execution_count": 4,
   "metadata": {},
   "outputs": [
    {
     "name": "stdout",
     "output_type": "stream",
     "text": [
      "Hello world\n",
      "This is a program in Python\n"
     ]
    }
   ],
   "source": [
    "print('Hello world')\n",
    "print('This is a program in Python')"
   ]
  },
  {
   "cell_type": "markdown",
   "metadata": {},
   "source": [
    "-------\n",
    "Simple enough? This is all you need to do to get set up. In the next notebook, we'll talk about **variables**, and learn how that `foo` thing from earlier works."
   ]
  },
  {
   "cell_type": "code",
   "execution_count": 5,
   "metadata": {},
   "outputs": [
    {
     "name": "stdout",
     "output_type": "stream",
     "text": [
      "5\n"
     ]
    }
   ],
   "source": [
    "foo = 5\n",
    "print(foo)"
   ]
  }
 ],
 "metadata": {
  "kernelspec": {
   "display_name": "Python 3",
   "language": "python",
   "name": "python3"
  },
  "language_info": {
   "codemirror_mode": {
    "name": "ipython",
    "version": 3
   },
   "file_extension": ".py",
   "mimetype": "text/x-python",
   "name": "python",
   "nbconvert_exporter": "python",
   "pygments_lexer": "ipython3",
   "version": "3.6.4"
  }
 },
 "nbformat": 4,
 "nbformat_minor": 2
}
