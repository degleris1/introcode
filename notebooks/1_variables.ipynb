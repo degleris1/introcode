{
 "cells": [
  {
   "cell_type": "markdown",
   "metadata": {},
   "source": [
    "# 1 Variables\n",
    "\n",
    "Welcome back. In this notebook, we'll talk about **variables**. An important part of progamming is *storing and retrieving information*. The basic way to do this is to *assign a value to a variable*. This looks like"
   ]
  },
  {
   "cell_type": "code",
   "execution_count": 1,
   "metadata": {},
   "outputs": [],
   "source": [
    "foo = 5"
   ]
  },
  {
   "cell_type": "markdown",
   "metadata": {},
   "source": [
    "`foo` is the variable, `=` is the *assignment operator*, and `5` is the value. We read this statement as *assign the variable `foo` to value `5`*. Once a value is stored in a variable, anything code using the variable will use the value it contains. For example,"
   ]
  },
  {
   "cell_type": "code",
   "execution_count": 2,
   "metadata": {},
   "outputs": [
    {
     "name": "stdout",
     "output_type": "stream",
     "text": [
      "5\n",
      "5\n"
     ]
    }
   ],
   "source": [
    "# They do the same thing!!\n",
    "\n",
    "print(5)\n",
    "print(foo)"
   ]
  },
  {
   "cell_type": "markdown",
   "metadata": {},
   "source": [
    "You can also use variables to assign other variables."
   ]
  },
  {
   "cell_type": "code",
   "execution_count": 3,
   "metadata": {},
   "outputs": [
    {
     "name": "stdout",
     "output_type": "stream",
     "text": [
      "3\n"
     ]
    }
   ],
   "source": [
    "bar = 3\n",
    "foo2 = bar\n",
    "print(foo2)"
   ]
  },
  {
   "cell_type": "markdown",
   "metadata": {},
   "source": [
    "We read the second statement as *assign the variable `foo2` to the value of `bar`*. You can change the value of a variable by reassinging it."
   ]
  },
  {
   "cell_type": "code",
   "execution_count": 4,
   "metadata": {},
   "outputs": [
    {
     "name": "stdout",
     "output_type": "stream",
     "text": [
      "3\n",
      "4\n"
     ]
    }
   ],
   "source": [
    "foo = 3\n",
    "print(foo)\n",
    "\n",
    "foo = 4\n",
    "print(foo)"
   ]
  },
  {
   "cell_type": "markdown",
   "metadata": {},
   "source": [
    "----\n",
    "\n",
    "Not all data are integers. Sometimes we wish to store text, or decimal numbers, or `True` and `False` statements."
   ]
  },
  {
   "cell_type": "code",
   "execution_count": 5,
   "metadata": {},
   "outputs": [
    {
     "name": "stdout",
     "output_type": "stream",
     "text": [
      "3\n",
      "Hello\n",
      "3.1\n",
      "False\n"
     ]
    }
   ],
   "source": [
    "foo = 3\n",
    "bar = 'Hello'\n",
    "foo_plus = 3.1\n",
    "is_bar = False\n",
    "\n",
    "print(foo)\n",
    "print(bar)\n",
    "print(foo_plus)\n",
    "print(is_bar)"
   ]
  },
  {
   "cell_type": "markdown",
   "metadata": {},
   "source": [
    "----\n",
    "\n",
    "The different types of data are called, surprise surprise, *data types*. You can check the data type of a value or variable using the `type` command."
   ]
  },
  {
   "cell_type": "code",
   "execution_count": 6,
   "metadata": {},
   "outputs": [
    {
     "name": "stdout",
     "output_type": "stream",
     "text": [
      "<class 'int'>\n",
      "<class 'int'>\n",
      "<class 'str'>\n",
      "<class 'float'>\n",
      "<class 'bool'>\n"
     ]
    }
   ],
   "source": [
    "print(type(5))\n",
    "print(type(foo))\n",
    "\n",
    "print(type('Hello'))\n",
    "print(type(3.1))\n",
    "print(type(False))"
   ]
  },
  {
   "cell_type": "markdown",
   "metadata": {},
   "source": [
    "There are several important data types in Python, each of which of an equivalent in just about every other programming language. These are\n",
    "\n",
    "- `int` : This type stores integer numbers, like `7` or `162`.\n",
    "- `float` : This type stores decimal numbers, also known as floating point numbers, like `12.4` or `17.9124124`.\n",
    "- `str` : This type stores *strings*, which is a programmer's way of saying text. Strings are defined using single or double quotes, like `'Hello'` or `'World'`. Since strings are especially interesting, we'll talk more about them later.\n",
    "- `bool` : This type stores boolean values, i.e. `True` and `False` values. It may seem silly to have a variable dedicated to this, but booleans will be essential later on,\n",
    "\n",
    "**Aside:** Python actually has unusual data types compared to most other programming languages. In fact, most programming languages require you to explicitly state the type of variable when assigning it a value (in C, you would say `int foo = 5`). However, at the cost of a little speed and some safety, this generally makes Python code more readable and concise.\n",
    "\n",
    "---\n",
    "\n",
    "You can change the type of a variable using the command associated with each type. Python will figure out the most effective way to change types."
   ]
  },
  {
   "cell_type": "code",
   "execution_count": 7,
   "metadata": {},
   "outputs": [
    {
     "name": "stdout",
     "output_type": "stream",
     "text": [
      "True\n",
      "1\n"
     ]
    }
   ],
   "source": [
    "# True will convert to 1 (and False would convert to 0)\n",
    "\n",
    "foo = True\n",
    "bar = int(foo)\n",
    "\n",
    "print(foo)\n",
    "print(bar)"
   ]
  },
  {
   "cell_type": "code",
   "execution_count": 8,
   "metadata": {},
   "outputs": [
    {
     "name": "stdout",
     "output_type": "stream",
     "text": [
      "5\n",
      "5\n"
     ]
    }
   ],
   "source": [
    "# 5 will convert to the string '5'\n",
    "\n",
    "foo = 5\n",
    "bar = str(foo)\n",
    "\n",
    "print(foo)\n",
    "print(bar)"
   ]
  },
  {
   "cell_type": "code",
   "execution_count": 9,
   "metadata": {},
   "outputs": [
    {
     "ename": "ValueError",
     "evalue": "invalid literal for int() with base 10: 'Hello'",
     "output_type": "error",
     "traceback": [
      "\u001b[0;31m---------------------------------------------------------------------------\u001b[0m",
      "\u001b[0;31mValueError\u001b[0m                                Traceback (most recent call last)",
      "\u001b[0;32m<ipython-input-9-659246a115e6>\u001b[0m in \u001b[0;36m<module>\u001b[0;34m()\u001b[0m\n\u001b[1;32m      2\u001b[0m \u001b[0;34m\u001b[0m\u001b[0m\n\u001b[1;32m      3\u001b[0m \u001b[0mfoo\u001b[0m \u001b[0;34m=\u001b[0m \u001b[0;34m'Hello'\u001b[0m\u001b[0;34m\u001b[0m\u001b[0m\n\u001b[0;32m----> 4\u001b[0;31m \u001b[0mbar\u001b[0m \u001b[0;34m=\u001b[0m \u001b[0mint\u001b[0m\u001b[0;34m(\u001b[0m\u001b[0mfoo\u001b[0m\u001b[0;34m)\u001b[0m\u001b[0;34m\u001b[0m\u001b[0m\n\u001b[0m\u001b[1;32m      5\u001b[0m \u001b[0;34m\u001b[0m\u001b[0m\n\u001b[1;32m      6\u001b[0m \u001b[0mprint\u001b[0m\u001b[0;34m(\u001b[0m\u001b[0mfoo\u001b[0m\u001b[0;34m)\u001b[0m\u001b[0;34m\u001b[0m\u001b[0m\n",
      "\u001b[0;31mValueError\u001b[0m: invalid literal for int() with base 10: 'Hello'"
     ]
    }
   ],
   "source": [
    "# Sometimes types cannot be converted\n",
    "\n",
    "foo = 'Hello'\n",
    "bar = int(foo)\n",
    "\n",
    "print(foo)\n",
    "print(bar)"
   ]
  },
  {
   "cell_type": "markdown",
   "metadata": {},
   "source": [
    "----\n",
    "\n",
    "Finally, we should briefly discuss `None`. Sometimes, you don't want to give you variable any value. You can assign to the value `None`, which is equivalent to `False`, but has its own type to tell Python that there is nothing here.\n",
    "\n",
    "**Aside:** Even though `None` converts to `False` and `False` converts to `0`, you cannot convert `None` directly to `0`. Python will raise an error if you try."
   ]
  },
  {
   "cell_type": "code",
   "execution_count": 10,
   "metadata": {},
   "outputs": [
    {
     "name": "stdout",
     "output_type": "stream",
     "text": [
      "<class 'NoneType'>\n",
      "False\n"
     ]
    }
   ],
   "source": [
    "foo = None\n",
    "\n",
    "print(type(foo))\n",
    "print(bool(foo))"
   ]
  }
 ],
 "metadata": {
  "kernelspec": {
   "display_name": "Python 3",
   "language": "python",
   "name": "python3"
  },
  "language_info": {
   "codemirror_mode": {
    "name": "ipython",
    "version": 3
   },
   "file_extension": ".py",
   "mimetype": "text/x-python",
   "name": "python",
   "nbconvert_exporter": "python",
   "pygments_lexer": "ipython3",
   "version": "3.6.6"
  }
 },
 "nbformat": 4,
 "nbformat_minor": 2
}
